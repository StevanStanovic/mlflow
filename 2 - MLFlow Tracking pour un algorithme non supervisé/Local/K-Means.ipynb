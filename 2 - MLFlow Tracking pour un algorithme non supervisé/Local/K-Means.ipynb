{
 "cells": [
  {
   "cell_type": "markdown",
   "metadata": {},
   "source": [
    "# K-Means"
   ]
  },
  {
   "cell_type": "markdown",
   "metadata": {},
   "source": [
    "### Importing Python modules"
   ]
  },
  {
   "cell_type": "code",
   "execution_count": 12,
   "metadata": {},
   "outputs": [],
   "source": [
    "import numpy as np\n",
    "import pandas as pd\n",
    "import mlflow\n",
    "import mlflow.sklearn\n",
    "from sklearn.preprocessing import LabelEncoder\n",
    "from sklearn.cluster import KMeans\n",
    "from sklearn.metrics import silhouette_score, davies_bouldin_score, calinski_harabasz_score"
   ]
  },
  {
   "cell_type": "markdown",
   "metadata": {},
   "source": [
    "### Setting Tracking URI in the current folder"
   ]
  },
  {
   "cell_type": "code",
   "execution_count": 13,
   "metadata": {},
   "outputs": [
    {
     "data": {
      "text/plain": [
       "''"
      ]
     },
     "execution_count": 13,
     "metadata": {},
     "output_type": "execute_result"
    }
   ],
   "source": [
    "mlflow.set_tracking_uri('')\n",
    "mlflow.tracking.get_tracking_uri()"
   ]
  },
  {
   "cell_type": "markdown",
   "metadata": {},
   "source": [
    "### Creating an experiment and verifying its existence"
   ]
  },
  {
   "cell_type": "code",
   "execution_count": 14,
   "metadata": {},
   "outputs": [
    {
     "data": {
      "text/plain": [
       "<Experiment: artifact_location='file:///C:/Users/stevan.stanovic/Desktop/MLFlow%20local/K-Means/mlruns/1', experiment_id='1', lifecycle_stage='active', name='Results', tags={}>"
      ]
     },
     "execution_count": 14,
     "metadata": {},
     "output_type": "execute_result"
    }
   ],
   "source": [
    "#mlflow.create_experiment('Results')\n",
    "mlflow.get_experiment_by_name('Results')"
   ]
  },
  {
   "cell_type": "markdown",
   "metadata": {},
   "source": [
    "### Importing data\n",
    "After importing data, the head of dataset looks like:\n",
    "\n",
    "![Image of head of Mall Customers](https://raw.githubusercontent.com/StevanStanovic/mlflow/master/2%20-%20MLFlow%20Tracking%20pour%20un%20algorithme%20non%20supervisé/Images/Head_Mall_Customers.PNG)"
   ]
  },
  {
   "cell_type": "code",
   "execution_count": 15,
   "metadata": {},
   "outputs": [],
   "source": [
    "def import_data(path):\n",
    "    dataset = pd.read_csv(path)\n",
    "    X = dataset.iloc[:, 1:].values\n",
    "    le = LabelEncoder()\n",
    "    X[:, 0] = le.fit_transform(X[:, 0])\n",
    "    return(X)"
   ]
  },
  {
   "cell_type": "markdown",
   "metadata": {},
   "source": [
    "### Starting a MLFlow experiment"
   ]
  },
  {
   "cell_type": "code",
   "execution_count": 18,
   "metadata": {},
   "outputs": [],
   "source": [
    "def mlflow_run(parameter, exp_id=None, run_name=None):\n",
    "  \n",
    "    with mlflow.start_run(run_name=run_name, experiment_id=exp_id) as run:\n",
    "        \n",
    "        # Recovering run ID\n",
    "        run_id = run.info.run_uuid\n",
    "        \n",
    "        # Importing data\n",
    "        X = import_data('Mall_Customers.csv')\n",
    "        \n",
    "        # Creating cluster\n",
    "        cluster = KMeans(n_clusters=parameter, init='k-means++', random_state=0)\n",
    "        \n",
    "        # Logging tags and parameters\n",
    "        mlflow.set_tag(\"Number of parameters\", 1)\n",
    "        mlflow.log_param(\"n_clusters\", parameter)\n",
    "        \n",
    "        # Fitting the training\n",
    "        cluster.fit_predict(X)\n",
    "        \n",
    "        # Storing cluster scores in variables\n",
    "        inertia = cluster.inertia_\n",
    "        silhouette = silhouette_score(X, cluster.labels_)\n",
    "        davies = davies_bouldin_score(X, cluster.labels_)\n",
    "        calinski = calinski_harabasz_score(X, cluster.labels_)\n",
    "        \n",
    "        # Logging metrics\n",
    "        mlflow.log_metric(\"inertia\", inertia)\n",
    "        mlflow.log_metric(\"silhouette_score\", silhouette)\n",
    "        mlflow.log_metric(\"davies_bouldin_score\", davies)\n",
    "        mlflow.log_metric(\"calinski_harabasz_score\", calinski)\n",
    "        \n",
    "        # Logging model\n",
    "        mlflow.sklearn.log_model(cluster, run_name + \"_Model\")\n",
    "\n",
    "        return run_id"
   ]
  },
  {
   "cell_type": "markdown",
   "metadata": {},
   "source": [
    "### Running experiments\n",
    "\n",
    "We execute nineteen experiments to compare them and determinate the best value of number of clusters."
   ]
  },
  {
   "cell_type": "code",
   "execution_count": 19,
   "metadata": {},
   "outputs": [
    {
     "name": "stdout",
     "output_type": "stream",
     "text": [
      "Experience finie !\n",
      " exp_id = 1 et run_id = 96d0b081c5fb44809071015399999821\n",
      "\n",
      "\n",
      "Experience finie !\n",
      " exp_id = 1 et run_id = 26b28284af364fa4989fa6bd0ac0f339\n",
      "\n",
      "\n",
      "Experience finie !\n",
      " exp_id = 1 et run_id = b656f4ed99f64b68983721c748c72f6f\n",
      "\n",
      "\n",
      "Experience finie !\n",
      " exp_id = 1 et run_id = 7bd0175612b547fc9ad9f21e86ab55c4\n",
      "\n",
      "\n",
      "Experience finie !\n",
      " exp_id = 1 et run_id = fd1cf101b10a4555a82bdaec2cb9eec1\n",
      "\n",
      "\n",
      "Experience finie !\n",
      " exp_id = 1 et run_id = 82edc413f96241648a2dc41824875ad4\n",
      "\n",
      "\n",
      "Experience finie !\n",
      " exp_id = 1 et run_id = 29559d3f85e741a6867d0b7879d5e94c\n",
      "\n",
      "\n",
      "Experience finie !\n",
      " exp_id = 1 et run_id = 54f0335358c14319aee1eb8fed0b9aad\n",
      "\n",
      "\n",
      "Experience finie !\n",
      " exp_id = 1 et run_id = 8e6490f7e10a45df90aff535ff73a74e\n",
      "\n",
      "\n",
      "Experience finie !\n",
      " exp_id = 1 et run_id = e37cc7011c044cd5963e5e4b07017683\n",
      "\n",
      "\n",
      "Experience finie !\n",
      " exp_id = 1 et run_id = fb4dc70a585c452b8f1b745e19f4a38e\n",
      "\n",
      "\n",
      "Experience finie !\n",
      " exp_id = 1 et run_id = 26e97143300d44a79810cf75c5835512\n",
      "\n",
      "\n",
      "Experience finie !\n",
      " exp_id = 1 et run_id = 0f7519df6c9f45868146e5b96e21dd59\n",
      "\n",
      "\n",
      "Experience finie !\n",
      " exp_id = 1 et run_id = 1ac5129561044b90b5c59bbc74f7e141\n",
      "\n",
      "\n",
      "Experience finie !\n",
      " exp_id = 1 et run_id = 06502fbf105947288cd25704e3590e4b\n",
      "\n",
      "\n",
      "Experience finie !\n",
      " exp_id = 1 et run_id = a96a1fb20f204968975a923d1f0b8c38\n",
      "\n",
      "\n",
      "Experience finie !\n",
      " exp_id = 1 et run_id = 81ccc11bc2e940f3bf759db67e755405\n",
      "\n",
      "\n",
      "Experience finie !\n",
      " exp_id = 1 et run_id = 20a3c744f58a4a2294d74306f00d84ac\n",
      "\n",
      "\n",
      "Experience finie !\n",
      " exp_id = 1 et run_id = 5bd05b58421148098bc317c5c5c988f7\n",
      "\n",
      "\n"
     ]
    }
   ],
   "source": [
    "if __name__=='__main__':\n",
    "    # Setting experiment ID and run name\n",
    "    exp_id = ###Set_your_experiment_ID_using_an_integer\n",
    "    run_name = \"KMeans\"\n",
    "    params = range(2,21)\n",
    "    for i in params:\n",
    "      run_id = mlflow_run(i, exp_id, run_name)\n",
    "      print(\"Experience finie !\\n exp_id = {} et run_id = {}\\n\\n\".format(exp_id, run_id))"
   ]
  },
  {
   "cell_type": "code",
   "execution_count": null,
   "metadata": {},
   "outputs": [],
   "source": []
  }
 ],
 "metadata": {
  "kernelspec": {
   "display_name": "Python 3",
   "language": "python",
   "name": "python3"
  },
  "language_info": {
   "codemirror_mode": {
    "name": "ipython",
    "version": 3
   },
   "file_extension": ".py",
   "mimetype": "text/x-python",
   "name": "python",
   "nbconvert_exporter": "python",
   "pygments_lexer": "ipython3",
   "version": "3.8.5"
  },
  "name": "K-Means",
  "notebookId": 3701264038179630
 },
 "nbformat": 4,
 "nbformat_minor": 4
}
