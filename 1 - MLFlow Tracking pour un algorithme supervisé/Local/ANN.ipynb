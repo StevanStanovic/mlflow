{
 "cells": [
  {
   "cell_type": "markdown",
   "metadata": {},
   "source": [
    "# Artificial Neural Network (ANN)"
   ]
  },
  {
   "cell_type": "markdown",
   "metadata": {},
   "source": [
    "### Importing Python modules"
   ]
  },
  {
   "cell_type": "code",
   "execution_count": 2,
   "metadata": {},
   "outputs": [],
   "source": [
    "import numpy as np\n",
    "import pandas as pd\n",
    "import mlflow\n",
    "import mlflow.tensorflow\n",
    "import tensorflow as tf\n",
    "from sklearn.preprocessing import LabelEncoder, StandardScaler, OneHotEncoder\n",
    "from sklearn.compose import ColumnTransformer\n",
    "from sklearn.model_selection import train_test_split\n",
    "from sklearn.metrics import confusion_matrix"
   ]
  },
  {
   "cell_type": "markdown",
   "metadata": {},
   "source": [
    "### Setting Tracking URI in the current folder"
   ]
  },
  {
   "cell_type": "code",
   "execution_count": 3,
   "metadata": {},
   "outputs": [
    {
     "data": {
      "text/plain": [
       "''"
      ]
     },
     "execution_count": 3,
     "metadata": {},
     "output_type": "execute_result"
    }
   ],
   "source": [
    "mlflow.set_tracking_uri('')\n",
    "mlflow.tracking.get_tracking_uri()"
   ]
  },
  {
   "cell_type": "markdown",
   "metadata": {},
   "source": [
    "### Creating an experiment and verifying its existence"
   ]
  },
  {
   "cell_type": "code",
   "execution_count": 4,
   "metadata": {},
   "outputs": [
    {
     "data": {
      "text/plain": [
       "<Experiment: artifact_location='file:///C:/Users/stevan.stanovic/Desktop/MLFlow%20local/Local/mlruns/1', experiment_id='1', lifecycle_stage='active', name='Results', tags={}>"
      ]
     },
     "execution_count": 4,
     "metadata": {},
     "output_type": "execute_result"
    }
   ],
   "source": [
    "#mlflow.create_experiment('Results')\n",
    "mlflow.get_experiment_by_name('Results')"
   ]
  },
  {
   "cell_type": "markdown",
   "metadata": {},
   "source": [
    "### Importing data\n",
    "After importing data, the head of dataset looks like:\n",
    "\n",
    "![Image of head of Churn Modelling](https://raw.githubusercontent.com/StevanStanovic/mlflow/master/1%20-%20MLFlow%20Tracking%20pour%20un%20algorithme%20supervisé/Images/Head_Churn_Modelling.PNG)"
   ]
  },
  {
   "cell_type": "code",
   "execution_count": 5,
   "metadata": {},
   "outputs": [],
   "source": [
    "def import_data(path):\n",
    "    dataset = pd.read_csv(path)\n",
    "    X = dataset.iloc[:, 3:-1].values\n",
    "    y = dataset.iloc[:, -1].values\n",
    "    le = LabelEncoder()\n",
    "    X[:, 2] = le.fit_transform(X[:, 2])\n",
    "    ct = ColumnTransformer(transformers=[('encoder', OneHotEncoder(), [1])], remainder='passthrough')\n",
    "    X = np.array(ct.fit_transform(X))\n",
    "    sc = StandardScaler()\n",
    "    X = sc.fit_transform(X)\n",
    "    return (X, y)"
   ]
  },
  {
   "cell_type": "markdown",
   "metadata": {},
   "source": [
    "### Creating ANN model"
   ]
  },
  {
   "cell_type": "code",
   "execution_count": 6,
   "metadata": {},
   "outputs": [],
   "source": [
    "def build_model():\n",
    "  model = tf.keras.models.Sequential()\n",
    "  model.add(tf.keras.layers.Dense(units=6, activation='relu', input_shape=(12,)))\n",
    "  model.add(tf.keras.layers.Dense(units=6, activation='relu'))\n",
    "  model.add(tf.keras.layers.Dense(units=1, activation='sigmoid'))\n",
    "  model.compile(optimizer = 'adam', loss = 'binary_crossentropy', metrics = ['accuracy'])\n",
    "  return(model)"
   ]
  },
  {
   "cell_type": "markdown",
   "metadata": {},
   "source": [
    "### Starting a MLFlow experiment"
   ]
  },
  {
   "cell_type": "code",
   "execution_count": 7,
   "metadata": {},
   "outputs": [],
   "source": [
    "def mlflow_run(exp_id=None, run_name=None):\n",
    "  \n",
    "    with mlflow.start_run(run_name=run_name, experiment_id=exp_id) as run:\n",
    "        \n",
    "        # Recovering run ID\n",
    "        run_id = run.info.run_uuid\n",
    "        \n",
    "        # Importing and splitting data\n",
    "        (X, y) = import_data('Churn_Modelling.csv')    \n",
    "        X_train, X_test, y_train, y_test = train_test_split(X, y, test_size = 0.2, random_state = 0)\n",
    "        \n",
    "        # Creating classifier\n",
    "        classifier = build_model()\n",
    "        \n",
    "        # Autologging model\n",
    "        mlflow.tensorflow.autolog()\n",
    "        \n",
    "        # Fitting the training set and predicting the test set\n",
    "        classifier.fit(X_train, y_train, batch_size = 32, epochs = 100)\n",
    "        y_pred = classifier.predict(X_test)\n",
    "        y_pred = (y_pred > 0.5)\n",
    "        \n",
    "        # Storing confusion matrix metrics in variables\n",
    "        TP, FP, FN, TN = confusion_matrix(y_test, y_pred).ravel()\n",
    "        sensitivity_recall_TPR = TP/(TP+FN)\n",
    "        specificity_TNR = TN/(TN+FP)\n",
    "        precision_PPV = TP/(TP+FP)\n",
    "        NPV = TN/(TN+FN)\n",
    "        fallout_FPR = 1 - specificity_TNR\n",
    "        FDR = 1 - precision_PPV\n",
    "        accuracy = (TP+TN)/(y_test.shape[0])\n",
    "        \n",
    "        # Logging metrics\n",
    "        mlflow.log_metric(\"sensitivity_recall_TPR\", sensitivity_recall_TPR)\n",
    "        mlflow.log_metric(\"specificity_TNR\", specificity_TNR)\n",
    "        mlflow.log_metric(\"precision_PPV\", precision_PPV)\n",
    "        mlflow.log_metric(\"NPV\", NPV)\n",
    "        mlflow.log_metric(\"fallout_FPR\", fallout_FPR)\n",
    "        mlflow.log_metric(\"FDR\", FDR)\n",
    "        mlflow.log_metric(\"accuracy\", accuracy)\n",
    "        \n",
    "        return run_id"
   ]
  },
  {
   "cell_type": "markdown",
   "metadata": {},
   "source": [
    "### Running the experiment"
   ]
  },
  {
   "cell_type": "code",
   "execution_count": 8,
   "metadata": {},
   "outputs": [
    {
     "name": "stderr",
     "output_type": "stream",
     "text": [
      "C:\\Users\\stevan.stanovic\\AppData\\Roaming\\Python\\Python38\\site-packages\\tensorflow\\python\\framework\\tensor_util.py:523: DeprecationWarning: tostring() is deprecated. Use tobytes() instead.\n",
      "  tensor_proto.tensor_content = nparray.tostring()\n"
     ]
    },
    {
     "name": "stdout",
     "output_type": "stream",
     "text": [
      "Epoch 1/100\n"
     ]
    },
    {
     "name": "stderr",
     "output_type": "stream",
     "text": [
      "C:\\Users\\stevan.stanovic\\AppData\\Roaming\\Python\\Python38\\site-packages\\tensorflow\\python\\framework\\indexed_slices.py:349: DeprecationWarning: Using or importing the ABCs from 'collections' instead of from 'collections.abc' is deprecated since Python 3.3, and in 3.9 it will stop working\n",
      "  if not isinstance(values, collections.Sequence):\n",
      "C:\\Users\\stevan.stanovic\\AppData\\Roaming\\Python\\Python38\\site-packages\\tensorflow\\python\\training\\tracking\\data_structures.py:718: DeprecationWarning: Using or importing the ABCs from 'collections' instead of from 'collections.abc' is deprecated since Python 3.3, and in 3.9 it will stop working\n",
      "  if not isinstance(wrapped_dict, collections.Mapping):\n"
     ]
    },
    {
     "name": "stdout",
     "output_type": "stream",
     "text": [
      "250/250 [==============================] - 0s 2ms/step - loss: 0.6291 - accuracy: 0.6852\n",
      "Epoch 2/100\n",
      "250/250 [==============================] - 0s 1ms/step - loss: 0.4898 - accuracy: 0.7955\n",
      "Epoch 3/100\n",
      "250/250 [==============================] - 0s 1ms/step - loss: 0.4519 - accuracy: 0.8002\n",
      "Epoch 4/100\n",
      "250/250 [==============================] - 1s 3ms/step - loss: 0.4358 - accuracy: 0.8086\n",
      "Epoch 5/100\n",
      "250/250 [==============================] - 0s 1ms/step - loss: 0.4279 - accuracy: 0.8105\n",
      "Epoch 6/100\n",
      "250/250 [==============================] - 0s 1ms/step - loss: 0.4219 - accuracy: 0.8150\n",
      "Epoch 7/100\n",
      "250/250 [==============================] - 0s 961us/step - loss: 0.4166 - accuracy: 0.8163\n",
      "Epoch 8/100\n",
      "250/250 [==============================] - 0s 993us/step - loss: 0.4114 - accuracy: 0.8191\n",
      "Epoch 9/100\n",
      "250/250 [==============================] - 0s 1ms/step - loss: 0.4071 - accuracy: 0.8204\n",
      "Epoch 10/100\n",
      "250/250 [==============================] - 0s 968us/step - loss: 0.4033 - accuracy: 0.8220\n",
      "Epoch 11/100\n",
      "250/250 [==============================] - 0s 947us/step - loss: 0.4000 - accuracy: 0.8221\n",
      "Epoch 12/100\n",
      "250/250 [==============================] - 0s 1ms/step - loss: 0.3972 - accuracy: 0.8217\n",
      "Epoch 13/100\n",
      "250/250 [==============================] - 0s 1ms/step - loss: 0.3940 - accuracy: 0.8230\n",
      "Epoch 14/100\n",
      "250/250 [==============================] - 0s 975us/step - loss: 0.3919 - accuracy: 0.8232\n",
      "Epoch 15/100\n",
      "250/250 [==============================] - 0s 950us/step - loss: 0.3895 - accuracy: 0.8231\n",
      "Epoch 16/100\n",
      "250/250 [==============================] - 0s 936us/step - loss: 0.3877 - accuracy: 0.8238\n",
      "Epoch 17/100\n",
      "250/250 [==============================] - ETA: 0s - loss: 0.3900 - accuracy: 0.82 - 0s 970us/step - loss: 0.3857 - accuracy: 0.8224\n",
      "Epoch 18/100\n",
      "250/250 [==============================] - 0s 948us/step - loss: 0.3839 - accuracy: 0.8244\n",
      "Epoch 19/100\n",
      "250/250 [==============================] - 0s 1ms/step - loss: 0.3809 - accuracy: 0.8245\n",
      "Epoch 20/100\n",
      "250/250 [==============================] - 0s 924us/step - loss: 0.3771 - accuracy: 0.8260\n",
      "Epoch 21/100\n",
      "250/250 [==============================] - 0s 937us/step - loss: 0.3740 - accuracy: 0.8284\n",
      "Epoch 22/100\n",
      "250/250 [==============================] - 0s 988us/step - loss: 0.3712 - accuracy: 0.8284\n",
      "Epoch 23/100\n",
      "250/250 [==============================] - 0s 957us/step - loss: 0.3688 - accuracy: 0.8292\n",
      "Epoch 24/100\n",
      "250/250 [==============================] - 0s 1ms/step - loss: 0.3664 - accuracy: 0.8366\n",
      "Epoch 25/100\n",
      "250/250 [==============================] - 0s 1ms/step - loss: 0.3648 - accuracy: 0.8505\n",
      "Epoch 26/100\n",
      "250/250 [==============================] - 0s 1ms/step - loss: 0.3633 - accuracy: 0.8504\n",
      "Epoch 27/100\n",
      "250/250 [==============================] - 0s 975us/step - loss: 0.3614 - accuracy: 0.8519\n",
      "Epoch 28/100\n",
      "250/250 [==============================] - 0s 1000us/step - loss: 0.3598 - accuracy: 0.8534s - loss: 0.3647 - accuracy\n",
      "Epoch 29/100\n",
      "250/250 [==============================] - 0s 1ms/step - loss: 0.3587 - accuracy: 0.8536\n",
      "Epoch 30/100\n",
      "250/250 [==============================] - 0s 954us/step - loss: 0.3574 - accuracy: 0.8559\n",
      "Epoch 31/100\n",
      "250/250 [==============================] - 0s 974us/step - loss: 0.3561 - accuracy: 0.8565\n",
      "Epoch 32/100\n",
      "250/250 [==============================] - 0s 1ms/step - loss: 0.3555 - accuracy: 0.8547\n",
      "Epoch 33/100\n",
      "250/250 [==============================] - 1s 2ms/step - loss: 0.3543 - accuracy: 0.8570\n",
      "Epoch 34/100\n",
      "250/250 [==============================] - 0s 2ms/step - loss: 0.3538 - accuracy: 0.8568\n",
      "Epoch 35/100\n",
      "250/250 [==============================] - 0s 2ms/step - loss: 0.3533 - accuracy: 0.8562\n",
      "Epoch 36/100\n",
      "250/250 [==============================] - 0s 2ms/step - loss: 0.3523 - accuracy: 0.8570\n",
      "Epoch 37/100\n",
      "250/250 [==============================] - 0s 2ms/step - loss: 0.3520 - accuracy: 0.8595\n",
      "Epoch 38/100\n",
      "250/250 [==============================] - 0s 2ms/step - loss: 0.3510 - accuracy: 0.8575\n",
      "Epoch 39/100\n",
      "250/250 [==============================] - 0s 2ms/step - loss: 0.3506 - accuracy: 0.8593\n",
      "Epoch 40/100\n",
      "250/250 [==============================] - 0s 1ms/step - loss: 0.3497 - accuracy: 0.8580\n",
      "Epoch 41/100\n",
      "250/250 [==============================] - 0s 1ms/step - loss: 0.3492 - accuracy: 0.8576\n",
      "Epoch 42/100\n",
      "250/250 [==============================] - 0s 952us/step - loss: 0.3484 - accuracy: 0.8590\n",
      "Epoch 43/100\n",
      "250/250 [==============================] - 0s 998us/step - loss: 0.3476 - accuracy: 0.8595\n",
      "Epoch 44/100\n",
      "250/250 [==============================] - 0s 936us/step - loss: 0.3475 - accuracy: 0.8618\n",
      "Epoch 45/100\n",
      "250/250 [==============================] - 0s 934us/step - loss: 0.3465 - accuracy: 0.8593\n",
      "Epoch 46/100\n",
      "250/250 [==============================] - 0s 1ms/step - loss: 0.3464 - accuracy: 0.8599\n",
      "Epoch 47/100\n",
      "250/250 [==============================] - 0s 952us/step - loss: 0.3465 - accuracy: 0.8614\n",
      "Epoch 48/100\n",
      "250/250 [==============================] - 0s 988us/step - loss: 0.3454 - accuracy: 0.8606\n",
      "Epoch 49/100\n",
      "250/250 [==============================] - 0s 952us/step - loss: 0.3450 - accuracy: 0.8604\n",
      "Epoch 50/100\n",
      "250/250 [==============================] - 0s 971us/step - loss: 0.3450 - accuracy: 0.8604\n",
      "Epoch 51/100\n",
      "250/250 [==============================] - 0s 937us/step - loss: 0.3444 - accuracy: 0.8625\n",
      "Epoch 52/100\n",
      "250/250 [==============================] - 0s 981us/step - loss: 0.3441 - accuracy: 0.8606\n",
      "Epoch 53/100\n",
      "250/250 [==============================] - 0s 927us/step - loss: 0.3436 - accuracy: 0.8614\n",
      "Epoch 54/100\n",
      "250/250 [==============================] - 0s 1ms/step - loss: 0.3430 - accuracy: 0.8631\n",
      "Epoch 55/100\n",
      "250/250 [==============================] - 0s 945us/step - loss: 0.3435 - accuracy: 0.8605\n",
      "Epoch 56/100\n",
      "250/250 [==============================] - 0s 967us/step - loss: 0.3428 - accuracy: 0.86080s - loss: 0.3429 - accuracy: \n",
      "Epoch 57/100\n",
      "250/250 [==============================] - 0s 963us/step - loss: 0.3428 - accuracy: 0.8615\n",
      "Epoch 58/100\n",
      "250/250 [==============================] - 0s 1ms/step - loss: 0.3419 - accuracy: 0.8629\n",
      "Epoch 59/100\n",
      "250/250 [==============================] - 0s 1ms/step - loss: 0.3420 - accuracy: 0.8616\n",
      "Epoch 60/100\n",
      "250/250 [==============================] - 0s 1ms/step - loss: 0.3420 - accuracy: 0.8626\n",
      "Epoch 61/100\n",
      "250/250 [==============================] - 0s 969us/step - loss: 0.3417 - accuracy: 0.8618\n",
      "Epoch 62/100\n",
      "250/250 [==============================] - 0s 1ms/step - loss: 0.3415 - accuracy: 0.8614\n",
      "Epoch 63/100\n",
      "250/250 [==============================] - 0s 1ms/step - loss: 0.3411 - accuracy: 0.8619\n",
      "Epoch 64/100\n",
      "250/250 [==============================] - 0s 1ms/step - loss: 0.3413 - accuracy: 0.8610\n",
      "Epoch 65/100\n",
      "250/250 [==============================] - 0s 1ms/step - loss: 0.3411 - accuracy: 0.8608\n",
      "Epoch 66/100\n",
      "250/250 [==============================] - 0s 1ms/step - loss: 0.3408 - accuracy: 0.8605\n",
      "Epoch 67/100\n",
      "250/250 [==============================] - 0s 1ms/step - loss: 0.3407 - accuracy: 0.8627\n",
      "Epoch 68/100\n",
      "250/250 [==============================] - 0s 1ms/step - loss: 0.3405 - accuracy: 0.8608\n",
      "Epoch 69/100\n",
      "250/250 [==============================] - 0s 1ms/step - loss: 0.3402 - accuracy: 0.8619\n",
      "Epoch 70/100\n",
      "250/250 [==============================] - 0s 1ms/step - loss: 0.3403 - accuracy: 0.8618\n",
      "Epoch 71/100\n",
      "250/250 [==============================] - 0s 1ms/step - loss: 0.3402 - accuracy: 0.8621\n",
      "Epoch 72/100\n",
      "250/250 [==============================] - 0s 1ms/step - loss: 0.3404 - accuracy: 0.8608\n",
      "Epoch 73/100\n",
      "250/250 [==============================] - 0s 975us/step - loss: 0.3399 - accuracy: 0.8611\n",
      "Epoch 74/100\n",
      "250/250 [==============================] - 0s 967us/step - loss: 0.3402 - accuracy: 0.8606\n",
      "Epoch 75/100\n",
      "250/250 [==============================] - 0s 967us/step - loss: 0.3400 - accuracy: 0.8599\n",
      "Epoch 76/100\n",
      "250/250 [==============================] - 0s 1ms/step - loss: 0.3395 - accuracy: 0.8606\n",
      "Epoch 77/100\n",
      "250/250 [==============================] - 0s 1ms/step - loss: 0.3395 - accuracy: 0.8635\n",
      "Epoch 78/100\n",
      "250/250 [==============================] - 0s 1ms/step - loss: 0.3395 - accuracy: 0.8618\n",
      "Epoch 79/100\n",
      "250/250 [==============================] - 0s 1ms/step - loss: 0.3393 - accuracy: 0.8618\n",
      "Epoch 80/100\n",
      "250/250 [==============================] - 0s 1ms/step - loss: 0.3390 - accuracy: 0.8626\n",
      "Epoch 81/100\n",
      "250/250 [==============================] - 0s 1ms/step - loss: 0.3389 - accuracy: 0.8619\n",
      "Epoch 82/100\n",
      "250/250 [==============================] - 0s 1ms/step - loss: 0.3387 - accuracy: 0.8625\n",
      "Epoch 83/100\n",
      "250/250 [==============================] - 0s 960us/step - loss: 0.3384 - accuracy: 0.8621\n",
      "Epoch 84/100\n",
      "250/250 [==============================] - 0s 969us/step - loss: 0.3375 - accuracy: 0.8606\n",
      "Epoch 85/100\n",
      "250/250 [==============================] - 0s 1ms/step - loss: 0.3372 - accuracy: 0.8620\n",
      "Epoch 86/100\n",
      "250/250 [==============================] - 0s 968us/step - loss: 0.3371 - accuracy: 0.8619\n",
      "Epoch 87/100\n",
      "250/250 [==============================] - 0s 1ms/step - loss: 0.3372 - accuracy: 0.8611\n",
      "Epoch 88/100\n",
      "250/250 [==============================] - 0s 996us/step - loss: 0.3359 - accuracy: 0.8621\n",
      "Epoch 89/100\n",
      "250/250 [==============================] - 0s 1ms/step - loss: 0.3361 - accuracy: 0.8612\n",
      "Epoch 90/100\n",
      "250/250 [==============================] - 0s 967us/step - loss: 0.3357 - accuracy: 0.8622\n",
      "Epoch 91/100\n",
      "250/250 [==============================] - 0s 972us/step - loss: 0.3356 - accuracy: 0.8619\n",
      "Epoch 92/100\n",
      "250/250 [==============================] - 0s 973us/step - loss: 0.3355 - accuracy: 0.8615\n",
      "Epoch 93/100\n",
      "250/250 [==============================] - 0s 1ms/step - loss: 0.3355 - accuracy: 0.8600\n",
      "Epoch 94/100\n",
      "250/250 [==============================] - 0s 1ms/step - loss: 0.3354 - accuracy: 0.8616\n",
      "Epoch 95/100\n",
      "250/250 [==============================] - 0s 998us/step - loss: 0.3356 - accuracy: 0.8627\n",
      "Epoch 96/100\n",
      "250/250 [==============================] - 0s 1ms/step - loss: 0.3354 - accuracy: 0.8626\n",
      "Epoch 97/100\n",
      "250/250 [==============================] - 0s 1ms/step - loss: 0.3351 - accuracy: 0.8620\n",
      "Epoch 98/100\n",
      "250/250 [==============================] - 0s 1ms/step - loss: 0.3354 - accuracy: 0.8615\n",
      "Epoch 99/100\n",
      "250/250 [==============================] - 0s 1ms/step - loss: 0.3355 - accuracy: 0.8627\n",
      "Epoch 100/100\n",
      "250/250 [==============================] - 0s 1ms/step - loss: 0.3352 - accuracy: 0.8618\n",
      "Finished experiment !\n",
      " exp_id = 1 et run_id = 92ce96fef7c04470aaa7c391015a6373\n"
     ]
    }
   ],
   "source": [
    "if __name__=='__main__':\n",
    "    # Setting experiment ID and run name\n",
    "    exp_id = ###Set_your_experiment_ID_using_an_integer\n",
    "    run_name = \"ANN\"\n",
    "    run_id = mlflow_run(exp_id, run_name)\n",
    "    print(\"Finished experiment !\\n exp_id = {} et run_id = {}\".format(exp_id, run_id))"
   ]
  },
  {
   "cell_type": "code",
   "execution_count": null,
   "metadata": {},
   "outputs": [],
   "source": []
  }
 ],
 "metadata": {
  "kernelspec": {
   "display_name": "Python 3",
   "language": "python",
   "name": "python3"
  },
  "language_info": {
   "codemirror_mode": {
    "name": "ipython",
    "version": 3
   },
   "file_extension": ".py",
   "mimetype": "text/x-python",
   "name": "python",
   "nbconvert_exporter": "python",
   "pygments_lexer": "ipython3",
   "version": "3.8.5"
  },
  "name": "ANN",
  "notebookId": 2067456846103397
 },
 "nbformat": 4,
 "nbformat_minor": 4
}
