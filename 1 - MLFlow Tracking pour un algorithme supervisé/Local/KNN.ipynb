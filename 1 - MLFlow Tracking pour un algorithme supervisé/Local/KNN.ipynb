{
 "cells": [
  {
   "cell_type": "markdown",
   "metadata": {},
   "source": [
    "# K-Nearest Neighbors (KNN)"
   ]
  },
  {
   "cell_type": "markdown",
   "metadata": {},
   "source": [
    "### Importing Python modules"
   ]
  },
  {
   "cell_type": "code",
   "execution_count": 1,
   "metadata": {},
   "outputs": [],
   "source": [
    "import numpy as np\n",
    "import pandas as pd\n",
    "import mlflow\n",
    "import mlflow.sklearn\n",
    "from sklearn.preprocessing import LabelEncoder, StandardScaler, OneHotEncoder\n",
    "from sklearn.compose import ColumnTransformer\n",
    "from sklearn.model_selection import train_test_split\n",
    "from sklearn.neighbors import KNeighborsClassifier\n",
    "from sklearn.metrics import confusion_matrix"
   ]
  },
  {
   "cell_type": "markdown",
   "metadata": {},
   "source": [
    "### Setting Tracking URI in the current folder"
   ]
  },
  {
   "cell_type": "code",
   "execution_count": 2,
   "metadata": {},
   "outputs": [
    {
     "data": {
      "text/plain": [
       "''"
      ]
     },
     "execution_count": 2,
     "metadata": {},
     "output_type": "execute_result"
    }
   ],
   "source": [
    "mlflow.set_tracking_uri('')\n",
    "mlflow.tracking.get_tracking_uri()"
   ]
  },
  {
   "cell_type": "markdown",
   "metadata": {},
   "source": [
    "### Creating an experiment and verifying its existence"
   ]
  },
  {
   "cell_type": "code",
   "execution_count": 3,
   "metadata": {},
   "outputs": [
    {
     "data": {
      "text/plain": [
       "<Experiment: artifact_location='file:///C:/Users/stevan.stanovic/Desktop/MLFlow%20local/Local/mlruns/1', experiment_id='1', lifecycle_stage='active', name='Results', tags={}>"
      ]
     },
     "execution_count": 3,
     "metadata": {},
     "output_type": "execute_result"
    }
   ],
   "source": [
    "#mlflow.create_experiment('Results')\n",
    "mlflow.get_experiment_by_name('Results')"
   ]
  },
  {
   "cell_type": "markdown",
   "metadata": {},
   "source": [
    "### Importing data\n",
    "After importing data, the head of dataset looks like:\n",
    "\n",
    "![Image of head of Churn Modelling](https://raw.githubusercontent.com/StevanStanovic/mlflow/master/1%20-%20MLFlow%20Tracking%20pour%20un%20algorithme%20supervisé/Images/Head_Churn_Modelling.PNG)"
   ]
  },
  {
   "cell_type": "code",
   "execution_count": 4,
   "metadata": {},
   "outputs": [],
   "source": [
    "def import_data(path):\n",
    "    dataset = pd.read_csv(path)\n",
    "    X = dataset.iloc[:, 3:-1].values\n",
    "    y = dataset.iloc[:, -1].values\n",
    "    le = LabelEncoder()\n",
    "    X[:, 2] = le.fit_transform(X[:, 2])\n",
    "    ct = ColumnTransformer(transformers=[('encoder', OneHotEncoder(), [1])], remainder='passthrough')\n",
    "    X = np.array(ct.fit_transform(X))\n",
    "    sc = StandardScaler()\n",
    "    X = sc.fit_transform(X)\n",
    "    return (X, y)"
   ]
  },
  {
   "cell_type": "markdown",
   "metadata": {},
   "source": [
    "### Starting a MLFlow experiment"
   ]
  },
  {
   "cell_type": "code",
   "execution_count": 5,
   "metadata": {},
   "outputs": [],
   "source": [
    "def mlflow_run(exp_id=None, run_name=None):\n",
    "  \n",
    "    with mlflow.start_run(run_name=run_name, experiment_id=exp_id) as run:\n",
    "        \n",
    "        # Recovering run ID\n",
    "        run_id = run.info.run_uuid\n",
    "        \n",
    "        # Importing and splitting data\n",
    "        (X, y) = import_data('Churn_Modelling.csv')    \n",
    "        X_train, X_test, y_train, y_test = train_test_split(X, y, test_size = 0.2, random_state = 0)\n",
    "        \n",
    "        # Creating classifier\n",
    "        classifier = KNeighborsClassifier(n_neighbors = 2, metric = 'minkowski', p = 2)\n",
    "        \n",
    "        # Logging tags and parameters\n",
    "        mlflow.set_tag(\"Number of parameters\", 3)\n",
    "        mlflow.log_params({\n",
    "          \"n_neighbors\" : 2,\n",
    "          \"metric\" : \"minkowski\",\n",
    "          \"p\" : 2\n",
    "        })\n",
    "        mlflow.set_tag(\"Theorical information\", \"metrics->minkowski + p->2 = euclidian norm\")\n",
    "        \n",
    "        # Fitting the training set and predicting the test set\n",
    "        classifier.fit(X_train, y_train)\n",
    "        y_pred = classifier.predict(X_test)\n",
    "        \n",
    "        # Storing confusion matrix metrics in variables\n",
    "        TP, FP, FN, TN = confusion_matrix(y_test, y_pred).ravel()\n",
    "        sensitivity_recall_TPR = TP/(TP+FN)\n",
    "        specificity_TNR = TN/(TN+FP)\n",
    "        precision_PPV = TP/(TP+FP)\n",
    "        NPV = TN/(TN+FN)\n",
    "        fallout_FPR = 1 - specificity_TNR\n",
    "        FDR = 1 - precision_PPV\n",
    "        accuracy = (TP+TN)/(y_test.shape[0])\n",
    "        \n",
    "        # Logging metrics\n",
    "        mlflow.log_metric(\"sensitivity_recall_TPR\", sensitivity_recall_TPR)\n",
    "        mlflow.log_metric(\"specificity_TNR\", specificity_TNR)\n",
    "        mlflow.log_metric(\"precision_PPV\", precision_PPV)\n",
    "        mlflow.log_metric(\"NPV\", NPV)\n",
    "        mlflow.log_metric(\"fallout_FPR\", fallout_FPR)\n",
    "        mlflow.log_metric(\"FDR\", FDR)\n",
    "        mlflow.log_metric(\"accuracy\", accuracy)\n",
    "        \n",
    "        # Logging model\n",
    "        mlflow.sklearn.log_model(classifier, run_name + \"_Model\")\n",
    "\n",
    "        return run_id"
   ]
  },
  {
   "cell_type": "markdown",
   "metadata": {},
   "source": [
    "### Running the experiment"
   ]
  },
  {
   "cell_type": "code",
   "execution_count": 6,
   "metadata": {},
   "outputs": [
    {
     "name": "stdout",
     "output_type": "stream",
     "text": [
      "Finished experiment !\n",
      " exp_id = 1 et run_id = 05a7656e8b2c4997b243da84480b34af\n"
     ]
    }
   ],
   "source": [
    "if __name__=='__main__':\n",
    "    # Setting experiment ID and run name\n",
    "    exp_id = ###Set_your_experiment_ID_using_an_integer\n",
    "    run_name = \"KNN\"\n",
    "    run_id = mlflow_run(exp_id, run_name)\n",
    "    print(\"Finished experiment !\\n exp_id = {} et run_id = {}\".format(exp_id, run_id))"
   ]
  },
  {
   "cell_type": "code",
   "execution_count": null,
   "metadata": {},
   "outputs": [],
   "source": []
  }
 ],
 "metadata": {
  "kernelspec": {
   "display_name": "Python 3",
   "language": "python",
   "name": "python3"
  },
  "language_info": {
   "codemirror_mode": {
    "name": "ipython",
    "version": 3
   },
   "file_extension": ".py",
   "mimetype": "text/x-python",
   "name": "python",
   "nbconvert_exporter": "python",
   "pygments_lexer": "ipython3",
   "version": "3.8.5"
  },
  "name": "KNN",
  "notebookId": 1323273223629950
 },
 "nbformat": 4,
 "nbformat_minor": 4
}
